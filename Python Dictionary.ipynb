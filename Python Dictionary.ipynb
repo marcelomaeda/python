{
 "cells": [
  {
   "cell_type": "code",
   "execution_count": 1,
   "id": "13884222",
   "metadata": {},
   "outputs": [],
   "source": [
    "#Dictionary"
   ]
  },
  {
   "cell_type": "code",
   "execution_count": 2,
   "id": "5da02f9d",
   "metadata": {},
   "outputs": [],
   "source": [
    "fruit = {'apple':50,'banana':30,'orange':40,'peach':100}"
   ]
  },
  {
   "cell_type": "code",
   "execution_count": 3,
   "id": "26496b4b",
   "metadata": {},
   "outputs": [
    {
     "data": {
      "text/plain": [
       "dict"
      ]
     },
     "execution_count": 3,
     "metadata": {},
     "output_type": "execute_result"
    }
   ],
   "source": [
    "type(fruit)"
   ]
  },
  {
   "cell_type": "code",
   "execution_count": 4,
   "id": "ff24da28",
   "metadata": {},
   "outputs": [
    {
     "data": {
      "text/plain": [
       "dict_keys(['apple', 'banana', 'orange', 'peach'])"
      ]
     },
     "execution_count": 4,
     "metadata": {},
     "output_type": "execute_result"
    }
   ],
   "source": [
    "fruit.keys()"
   ]
  },
  {
   "cell_type": "code",
   "execution_count": 5,
   "id": "0339eb09",
   "metadata": {},
   "outputs": [
    {
     "data": {
      "text/plain": [
       "dict_values([50, 30, 40, 100])"
      ]
     },
     "execution_count": 5,
     "metadata": {},
     "output_type": "execute_result"
    }
   ],
   "source": [
    "fruit.values()"
   ]
  },
  {
   "cell_type": "code",
   "execution_count": 6,
   "id": "6da61403",
   "metadata": {},
   "outputs": [
    {
     "data": {
      "text/plain": [
       "dict_items([('apple', 50), ('banana', 30), ('orange', 40), ('peach', 100)])"
      ]
     },
     "execution_count": 6,
     "metadata": {},
     "output_type": "execute_result"
    }
   ],
   "source": [
    "fruit.items()"
   ]
  },
  {
   "cell_type": "code",
   "execution_count": 7,
   "id": "82b1ed51",
   "metadata": {},
   "outputs": [
    {
     "data": {
      "text/plain": [
       "{'apple': 50, 'banana': 30, 'orange': 40, 'peach': 100}"
      ]
     },
     "execution_count": 7,
     "metadata": {},
     "output_type": "execute_result"
    }
   ],
   "source": [
    "fruit"
   ]
  },
  {
   "cell_type": "code",
   "execution_count": 10,
   "id": "0e835fb4",
   "metadata": {},
   "outputs": [
    {
     "data": {
      "text/plain": [
       "{'apple': 10, 'banana': 30, 'orange': 40, 'peach': 100, 'Mango': 200}"
      ]
     },
     "execution_count": 10,
     "metadata": {},
     "output_type": "execute_result"
    }
   ],
   "source": [
    "fruit['Mango']=200\n",
    "fruit"
   ]
  },
  {
   "cell_type": "code",
   "execution_count": 11,
   "id": "d2b3386b",
   "metadata": {},
   "outputs": [
    {
     "data": {
      "text/plain": [
       "{'apple': 5, 'banana': 30, 'orange': 40, 'peach': 100, 'Mango': 200}"
      ]
     },
     "execution_count": 11,
     "metadata": {},
     "output_type": "execute_result"
    }
   ],
   "source": [
    "fruit['apple']=5\n",
    "fruit"
   ]
  },
  {
   "cell_type": "code",
   "execution_count": 12,
   "id": "c7bd115f",
   "metadata": {},
   "outputs": [],
   "source": [
    "fruit1 = {'apple':50,'banana':10}"
   ]
  },
  {
   "cell_type": "code",
   "execution_count": 13,
   "id": "ff6c45e8",
   "metadata": {},
   "outputs": [],
   "source": [
    "fruit2 = {'mango':100,'dragonfruit':500}"
   ]
  },
  {
   "cell_type": "code",
   "execution_count": 16,
   "id": "736f5096",
   "metadata": {},
   "outputs": [],
   "source": [
    "fruit1.update(fruit2)"
   ]
  },
  {
   "cell_type": "code",
   "execution_count": 17,
   "id": "1e806cb2",
   "metadata": {},
   "outputs": [
    {
     "data": {
      "text/plain": [
       "{'apple': 50, 'banana': 10, 'mango': 100, 'dragonfruit': 500}"
      ]
     },
     "execution_count": 17,
     "metadata": {},
     "output_type": "execute_result"
    }
   ],
   "source": [
    "fruit1"
   ]
  },
  {
   "cell_type": "code",
   "execution_count": 18,
   "id": "a2673138",
   "metadata": {},
   "outputs": [
    {
     "data": {
      "text/plain": [
       "100"
      ]
     },
     "execution_count": 18,
     "metadata": {},
     "output_type": "execute_result"
    }
   ],
   "source": [
    "fruit1.pop('mango')"
   ]
  },
  {
   "cell_type": "code",
   "execution_count": 19,
   "id": "fba6f010",
   "metadata": {},
   "outputs": [
    {
     "data": {
      "text/plain": [
       "{'apple': 50, 'banana': 10, 'dragonfruit': 500}"
      ]
     },
     "execution_count": 19,
     "metadata": {},
     "output_type": "execute_result"
    }
   ],
   "source": [
    "fruit1"
   ]
  },
  {
   "cell_type": "code",
   "execution_count": null,
   "id": "92068512",
   "metadata": {},
   "outputs": [],
   "source": []
  }
 ],
 "metadata": {
  "kernelspec": {
   "display_name": "Python 3 (ipykernel)",
   "language": "python",
   "name": "python3"
  },
  "language_info": {
   "codemirror_mode": {
    "name": "ipython",
    "version": 3
   },
   "file_extension": ".py",
   "mimetype": "text/x-python",
   "name": "python",
   "nbconvert_exporter": "python",
   "pygments_lexer": "ipython3",
   "version": "3.11.5"
  }
 },
 "nbformat": 4,
 "nbformat_minor": 5
}
