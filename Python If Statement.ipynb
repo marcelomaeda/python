{
 "cells": [
  {
   "cell_type": "code",
   "execution_count": 1,
   "id": "6839ab9a",
   "metadata": {},
   "outputs": [],
   "source": [
    "#if"
   ]
  },
  {
   "cell_type": "code",
   "execution_count": 5,
   "id": "163be15c",
   "metadata": {},
   "outputs": [],
   "source": [
    "a=10\n",
    "b=20"
   ]
  },
  {
   "cell_type": "code",
   "execution_count": 6,
   "id": "3ce56ac1",
   "metadata": {},
   "outputs": [],
   "source": [
    "if a>b:\n",
    "    print(\"a is > than b\")"
   ]
  },
  {
   "cell_type": "code",
   "execution_count": 7,
   "id": "3d8be2cd",
   "metadata": {},
   "outputs": [
    {
     "name": "stdout",
     "output_type": "stream",
     "text": [
      "b is > a\n"
     ]
    }
   ],
   "source": [
    "if b>a:\n",
    "    print(\"b is > a\")"
   ]
  },
  {
   "cell_type": "code",
   "execution_count": 8,
   "id": "01906989",
   "metadata": {},
   "outputs": [
    {
     "name": "stdout",
     "output_type": "stream",
     "text": [
      "b is > a\n"
     ]
    }
   ],
   "source": [
    "if a>b:\n",
    "    print(\"a is > b\")\n",
    "else:\n",
    "    print(\"b is > a\")"
   ]
  },
  {
   "cell_type": "code",
   "execution_count": 9,
   "id": "f3c4ef1a",
   "metadata": {},
   "outputs": [],
   "source": [
    "a=10\n",
    "b=20\n",
    "c=30"
   ]
  },
  {
   "cell_type": "code",
   "execution_count": 11,
   "id": "2b133cfe",
   "metadata": {},
   "outputs": [
    {
     "name": "stdout",
     "output_type": "stream",
     "text": [
      "c is >>>\n"
     ]
    }
   ],
   "source": [
    "if (a>b & a>c):\n",
    "    print(\"a is >>>\")\n",
    "elif (b>a & b>c):\n",
    "    print(\"b is >>>\")\n",
    "else:\n",
    "    print(\"c is >>>\")"
   ]
  },
  {
   "cell_type": "code",
   "execution_count": 12,
   "id": "b42e83fc",
   "metadata": {},
   "outputs": [],
   "source": [
    "#if with list"
   ]
  },
  {
   "cell_type": "code",
   "execution_count": 18,
   "id": "b90b5c59",
   "metadata": {},
   "outputs": [],
   "source": [
    "l1 = [1,2,3,4,5]"
   ]
  },
  {
   "cell_type": "code",
   "execution_count": 19,
   "id": "7e45ed48",
   "metadata": {},
   "outputs": [],
   "source": [
    "if l1[1]==2:\n",
    "    l1[1]=l1[1]+100"
   ]
  },
  {
   "cell_type": "code",
   "execution_count": 20,
   "id": "04cc7592",
   "metadata": {},
   "outputs": [
    {
     "data": {
      "text/plain": [
       "[1, 102, 3, 4, 5]"
      ]
     },
     "execution_count": 20,
     "metadata": {},
     "output_type": "execute_result"
    }
   ],
   "source": [
    "l1"
   ]
  },
  {
   "cell_type": "code",
   "execution_count": 21,
   "id": "0bda6830",
   "metadata": {},
   "outputs": [],
   "source": [
    "if l1[4]==10:\n",
    "    l1[1]=l1[1]+100\n",
    "else:\n",
    "    l1[4]=l1[4]+500"
   ]
  },
  {
   "cell_type": "code",
   "execution_count": 22,
   "id": "3b866e27",
   "metadata": {},
   "outputs": [
    {
     "data": {
      "text/plain": [
       "[1, 102, 3, 4, 505]"
      ]
     },
     "execution_count": 22,
     "metadata": {},
     "output_type": "execute_result"
    }
   ],
   "source": [
    "l1"
   ]
  },
  {
   "cell_type": "code",
   "execution_count": 23,
   "id": "2184476c",
   "metadata": {},
   "outputs": [],
   "source": [
    "#if with dictionary"
   ]
  },
  {
   "cell_type": "code",
   "execution_count": 24,
   "id": "4733b3cd",
   "metadata": {},
   "outputs": [],
   "source": [
    "d1 = {\"a\":1,\"b\":2,\"c\":3}"
   ]
  },
  {
   "cell_type": "code",
   "execution_count": 25,
   "id": "7549b7f4",
   "metadata": {},
   "outputs": [],
   "source": [
    "if d1[\"b\"]==2:\n",
    "    d1[\"b\"]=d1[\"b\"]+100"
   ]
  },
  {
   "cell_type": "code",
   "execution_count": 26,
   "id": "49ecb7f0",
   "metadata": {},
   "outputs": [
    {
     "data": {
      "text/plain": [
       "{'a': 1, 'b': 102, 'c': 3}"
      ]
     },
     "execution_count": 26,
     "metadata": {},
     "output_type": "execute_result"
    }
   ],
   "source": [
    "d1"
   ]
  },
  {
   "cell_type": "code",
   "execution_count": null,
   "id": "bbb9c07c",
   "metadata": {},
   "outputs": [],
   "source": []
  }
 ],
 "metadata": {
  "kernelspec": {
   "display_name": "Python 3 (ipykernel)",
   "language": "python",
   "name": "python3"
  },
  "language_info": {
   "codemirror_mode": {
    "name": "ipython",
    "version": 3
   },
   "file_extension": ".py",
   "mimetype": "text/x-python",
   "name": "python",
   "nbconvert_exporter": "python",
   "pygments_lexer": "ipython3",
   "version": "3.11.5"
  }
 },
 "nbformat": 4,
 "nbformat_minor": 5
}
