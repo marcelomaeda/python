{
 "cells": [
  {
   "cell_type": "code",
   "execution_count": 1,
   "id": "405fb3a1",
   "metadata": {},
   "outputs": [],
   "source": [
    "#Tokens"
   ]
  },
  {
   "cell_type": "code",
   "execution_count": 2,
   "id": "c4ef2546",
   "metadata": {},
   "outputs": [],
   "source": [
    "name = \"I am Marcelo\""
   ]
  },
  {
   "cell_type": "code",
   "execution_count": 3,
   "id": "03c55813",
   "metadata": {},
   "outputs": [],
   "source": [
    "Name = \"Am I Marcelo\""
   ]
  },
  {
   "cell_type": "code",
   "execution_count": 4,
   "id": "76dc7ded",
   "metadata": {},
   "outputs": [
    {
     "data": {
      "text/plain": [
       "'I am Marcelo'"
      ]
     },
     "execution_count": 4,
     "metadata": {},
     "output_type": "execute_result"
    }
   ],
   "source": [
    "name"
   ]
  },
  {
   "cell_type": "code",
   "execution_count": 5,
   "id": "246ea047",
   "metadata": {},
   "outputs": [
    {
     "data": {
      "text/plain": [
       "'Am I Marcelo'"
      ]
     },
     "execution_count": 5,
     "metadata": {},
     "output_type": "execute_result"
    }
   ],
   "source": [
    "Name"
   ]
  },
  {
   "cell_type": "code",
   "execution_count": 6,
   "id": "05d1e3a3",
   "metadata": {},
   "outputs": [],
   "source": [
    "a1 = \"Movie\""
   ]
  },
  {
   "cell_type": "code",
   "execution_count": 7,
   "id": "475d9993",
   "metadata": {},
   "outputs": [],
   "source": [
    "a1 = 123"
   ]
  },
  {
   "cell_type": "code",
   "execution_count": 8,
   "id": "16d458a0",
   "metadata": {},
   "outputs": [],
   "source": [
    "a1 = True"
   ]
  },
  {
   "cell_type": "code",
   "execution_count": null,
   "id": "a8f3ff01",
   "metadata": {},
   "outputs": [],
   "source": []
  }
 ],
 "metadata": {
  "kernelspec": {
   "display_name": "Python 3 (ipykernel)",
   "language": "python",
   "name": "python3"
  },
  "language_info": {
   "codemirror_mode": {
    "name": "ipython",
    "version": 3
   },
   "file_extension": ".py",
   "mimetype": "text/x-python",
   "name": "python",
   "nbconvert_exporter": "python",
   "pygments_lexer": "ipython3",
   "version": "3.11.5"
  }
 },
 "nbformat": 4,
 "nbformat_minor": 5
}
