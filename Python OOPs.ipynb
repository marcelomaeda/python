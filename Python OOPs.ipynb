{
 "cells": [
  {
   "cell_type": "code",
   "execution_count": 1,
   "id": "7b77929a",
   "metadata": {},
   "outputs": [],
   "source": [
    "#Class"
   ]
  },
  {
   "cell_type": "code",
   "execution_count": 9,
   "id": "0a0fc9a6",
   "metadata": {},
   "outputs": [],
   "source": [
    "class Phone:\n",
    "    \n",
    "    def __init__(self):\n",
    "        pass\n",
    "    \n",
    "    def make_call(self):\n",
    "        print(\"Let's make a phone call\")\n",
    "        \n",
    "    def play_game(self):\n",
    "        print(\"Let's play a game\")"
   ]
  },
  {
   "cell_type": "code",
   "execution_count": 10,
   "id": "7637726f",
   "metadata": {},
   "outputs": [],
   "source": [
    "p1 = Phone()"
   ]
  },
  {
   "cell_type": "code",
   "execution_count": 11,
   "id": "72472b94",
   "metadata": {},
   "outputs": [
    {
     "name": "stdout",
     "output_type": "stream",
     "text": [
      "Let's make a phone call\n"
     ]
    }
   ],
   "source": [
    "p1.make_call()"
   ]
  },
  {
   "cell_type": "code",
   "execution_count": 12,
   "id": "0889e9ea",
   "metadata": {},
   "outputs": [
    {
     "name": "stdout",
     "output_type": "stream",
     "text": [
      "Let's play a game\n"
     ]
    }
   ],
   "source": [
    "p1.play_game()"
   ]
  },
  {
   "cell_type": "code",
   "execution_count": 13,
   "id": "cf881872",
   "metadata": {},
   "outputs": [],
   "source": [
    "#Adding Parameters to a Class"
   ]
  },
  {
   "cell_type": "code",
   "execution_count": 20,
   "id": "ee1a1e6b",
   "metadata": {},
   "outputs": [],
   "source": [
    "class Phone:\n",
    "\n",
    "    def __init__(self):\n",
    "        pass\n",
    "    \n",
    "    def set_color(self, color):\n",
    "        self.color = color\n",
    "    \n",
    "    def set_cost(self, cost):\n",
    "        self.cost = cost\n",
    "        \n",
    "    def show_color(self):\n",
    "        return self.color\n",
    "    \n",
    "    def show_cost(self):\n",
    "        return self.cost\n",
    "    \n",
    "    def play_game(self):\n",
    "        print(\"Playing a game\")\n",
    "        \n",
    "    def make_call(self):\n",
    "        print(\"Making a call\")"
   ]
  },
  {
   "cell_type": "code",
   "execution_count": 21,
   "id": "8e750e2e",
   "metadata": {},
   "outputs": [],
   "source": [
    "p2 = Phone()"
   ]
  },
  {
   "cell_type": "code",
   "execution_count": 22,
   "id": "17e71947",
   "metadata": {},
   "outputs": [],
   "source": [
    "p2.set_color('blue')"
   ]
  },
  {
   "cell_type": "code",
   "execution_count": 23,
   "id": "76d03235",
   "metadata": {},
   "outputs": [],
   "source": [
    "p2.set_cost(500)"
   ]
  },
  {
   "cell_type": "code",
   "execution_count": 24,
   "id": "9c5c3477",
   "metadata": {},
   "outputs": [
    {
     "data": {
      "text/plain": [
       "'blue'"
      ]
     },
     "execution_count": 24,
     "metadata": {},
     "output_type": "execute_result"
    }
   ],
   "source": [
    "p2.show_color()"
   ]
  },
  {
   "cell_type": "code",
   "execution_count": 25,
   "id": "2d5fa5aa",
   "metadata": {},
   "outputs": [
    {
     "data": {
      "text/plain": [
       "500"
      ]
     },
     "execution_count": 25,
     "metadata": {},
     "output_type": "execute_result"
    }
   ],
   "source": [
    "p2.show_cost()"
   ]
  },
  {
   "cell_type": "code",
   "execution_count": 26,
   "id": "39290aa9",
   "metadata": {},
   "outputs": [
    {
     "name": "stdout",
     "output_type": "stream",
     "text": [
      "Playing a game\n"
     ]
    }
   ],
   "source": [
    "p2.play_game()"
   ]
  },
  {
   "cell_type": "code",
   "execution_count": 27,
   "id": "7829bc65",
   "metadata": {},
   "outputs": [
    {
     "name": "stdout",
     "output_type": "stream",
     "text": [
      "Making a call\n"
     ]
    }
   ],
   "source": [
    "p2.make_call()"
   ]
  },
  {
   "cell_type": "code",
   "execution_count": 28,
   "id": "7d2d97a1",
   "metadata": {},
   "outputs": [],
   "source": [
    "#Class with Constructor"
   ]
  },
  {
   "cell_type": "code",
   "execution_count": 37,
   "id": "14b52150",
   "metadata": {},
   "outputs": [],
   "source": [
    "class Employee:    \n",
    "    def __init__(self,name,age,salary,gender):        \n",
    "        self.name = name\n",
    "        self.age = age\n",
    "        self.salary = salary\n",
    "        self.gender = gender\n",
    "        \n",
    "    def show_details(self):\n",
    "        print(\"The name of the Employee is \", self.name)\n",
    "        print(\"The age of the Employee is \", self.age)\n",
    "        print(\"The salary of the Employee is \", self.salary)\n",
    "        print(\"The gender of the Employee is \", self.gender)"
   ]
  },
  {
   "cell_type": "code",
   "execution_count": 38,
   "id": "f4b4d959",
   "metadata": {},
   "outputs": [],
   "source": [
    "e1 = Employee('Julia', 25, 112000, 'Female')"
   ]
  },
  {
   "cell_type": "code",
   "execution_count": 39,
   "id": "754f6c7a",
   "metadata": {},
   "outputs": [
    {
     "name": "stdout",
     "output_type": "stream",
     "text": [
      "The name of the Employee is  Julia\n",
      "The age of the Employee is  25\n",
      "The salary of the Employee is  112000\n",
      "The gender of the Employee is  Female\n"
     ]
    }
   ],
   "source": [
    "e1.show_details()"
   ]
  },
  {
   "cell_type": "code",
   "execution_count": 40,
   "id": "579df2c6",
   "metadata": {},
   "outputs": [],
   "source": [
    "#Inheritance "
   ]
  },
  {
   "cell_type": "code",
   "execution_count": 44,
   "id": "e12a2277",
   "metadata": {},
   "outputs": [],
   "source": [
    "class Vehicle:\n",
    "    def __init__(self,mileage,cost):\n",
    "        self.mileage = mileage\n",
    "        self.cost = cost\n",
    "        \n",
    "    def show_details(self):\n",
    "        print(\"Vehicle\")\n",
    "        print(\"The mileage is: \", self.mileage)\n",
    "        print(\"The cost is \", self.cost)"
   ]
  },
  {
   "cell_type": "code",
   "execution_count": 45,
   "id": "91724755",
   "metadata": {},
   "outputs": [],
   "source": [
    "v1 = Vehicle(300,1000)"
   ]
  },
  {
   "cell_type": "code",
   "execution_count": 46,
   "id": "7259b928",
   "metadata": {},
   "outputs": [
    {
     "name": "stdout",
     "output_type": "stream",
     "text": [
      "Vehicle\n",
      "The mileage is:  300\n",
      "The cost is  1000\n"
     ]
    }
   ],
   "source": [
    "v1.show_details()"
   ]
  },
  {
   "cell_type": "code",
   "execution_count": 47,
   "id": "71c371a9",
   "metadata": {},
   "outputs": [],
   "source": [
    "class Car(Vehicle):\n",
    "    def show_car_details(self):\n",
    "        print(\"I am a car\")"
   ]
  },
  {
   "cell_type": "code",
   "execution_count": 48,
   "id": "8ca542bc",
   "metadata": {},
   "outputs": [],
   "source": [
    "c1 = Car(100,2000)"
   ]
  },
  {
   "cell_type": "code",
   "execution_count": 50,
   "id": "a11eebb0",
   "metadata": {},
   "outputs": [
    {
     "name": "stdout",
     "output_type": "stream",
     "text": [
      "Vehicle\n",
      "The mileage is:  100\n",
      "The cost is  2000\n"
     ]
    }
   ],
   "source": [
    "c1.show_details()"
   ]
  },
  {
   "cell_type": "code",
   "execution_count": 51,
   "id": "ff90bed0",
   "metadata": {},
   "outputs": [
    {
     "name": "stdout",
     "output_type": "stream",
     "text": [
      "I am a car\n"
     ]
    }
   ],
   "source": [
    "c1.show_car_details()"
   ]
  },
  {
   "cell_type": "code",
   "execution_count": 52,
   "id": "d5b47884",
   "metadata": {},
   "outputs": [],
   "source": [
    "#Over riding init method"
   ]
  },
  {
   "cell_type": "code",
   "execution_count": 53,
   "id": "c2839f07",
   "metadata": {},
   "outputs": [],
   "source": [
    "class Car(Vehicle):\n",
    "    def __init__(self,mileage,cost,tyres,hp):\n",
    "        super().__init__(mileage,cost) # parent class\n",
    "        self.tyres = tyres\n",
    "        self.hp = hp\n",
    "        \n",
    "    def show_car_details(self):\n",
    "        print(\"I am a car\")\n",
    "        print(\"Number of tyres are \", self.tyres)\n",
    "        print(\"Value of horse power is \", self.hp)"
   ]
  },
  {
   "cell_type": "code",
   "execution_count": 54,
   "id": "8e78e6cb",
   "metadata": {},
   "outputs": [],
   "source": [
    "c1 = Car(500,5000,8,200)"
   ]
  },
  {
   "cell_type": "code",
   "execution_count": 55,
   "id": "6106e1e4",
   "metadata": {},
   "outputs": [
    {
     "name": "stdout",
     "output_type": "stream",
     "text": [
      "Vehicle\n",
      "The mileage is:  500\n",
      "The cost is  5000\n"
     ]
    }
   ],
   "source": [
    "c1.show_details()"
   ]
  },
  {
   "cell_type": "code",
   "execution_count": 56,
   "id": "ea0a10ba",
   "metadata": {},
   "outputs": [
    {
     "name": "stdout",
     "output_type": "stream",
     "text": [
      "I am a car\n",
      "Number of tyres are  8\n",
      "Value of horse power is  200\n"
     ]
    }
   ],
   "source": [
    "c1.show_car_details()"
   ]
  },
  {
   "cell_type": "code",
   "execution_count": 57,
   "id": "68a9d7b6",
   "metadata": {},
   "outputs": [],
   "source": [
    "#Types of Inheritance\n",
    "#Single, Multiple, Multi-level and Hybrod"
   ]
  },
  {
   "cell_type": "code",
   "execution_count": 58,
   "id": "9f5a8f16",
   "metadata": {},
   "outputs": [],
   "source": [
    "class Parent1:\n",
    "    def __init__(self):\n",
    "        self.str1 = \"\"\n",
    "        \n",
    "    def assign_str1(self,str1):\n",
    "        self.str1 = str1\n",
    "        \n",
    "    def show_str1(self):\n",
    "        print(self.str1)"
   ]
  },
  {
   "cell_type": "code",
   "execution_count": 59,
   "id": "1f0454fa",
   "metadata": {},
   "outputs": [],
   "source": [
    "class Parent2:   \n",
    "    def __init__(self):\n",
    "        self.str2 = \"\"\n",
    "        \n",
    "    def assign_str2(self,str2):\n",
    "        self.str2 = str2\n",
    "        \n",
    "    def show_str2(self):\n",
    "        print(self.str2)"
   ]
  },
  {
   "cell_type": "code",
   "execution_count": 60,
   "id": "7499847e",
   "metadata": {},
   "outputs": [],
   "source": [
    "class Child(Parent1,Parent2):\n",
    "    def __init__(self):\n",
    "        super().__init__()\n",
    "        self.str3 = \"\"\n",
    "        \n",
    "    def assign_str3(self,str3):\n",
    "        self.str3 = str3\n",
    "        \n",
    "    def show_str3(self):\n",
    "        print(self.str3)"
   ]
  },
  {
   "cell_type": "code",
   "execution_count": 61,
   "id": "1380194f",
   "metadata": {},
   "outputs": [],
   "source": [
    "c1 = Child()"
   ]
  },
  {
   "cell_type": "code",
   "execution_count": 62,
   "id": "aacf7afe",
   "metadata": {},
   "outputs": [],
   "source": [
    "c1.assign_str1(\"Movie\")\n",
    "c1.assign_str2(\"Movieeeeeeee\")\n",
    "c1.assign_str3(\"Hello Movie\")"
   ]
  },
  {
   "cell_type": "code",
   "execution_count": 81,
   "id": "c0d30585",
   "metadata": {},
   "outputs": [
    {
     "name": "stdout",
     "output_type": "stream",
     "text": [
      "Movie\n"
     ]
    }
   ],
   "source": [
    "c1.show_str1()"
   ]
  },
  {
   "cell_type": "code",
   "execution_count": 79,
   "id": "a2a31a83",
   "metadata": {},
   "outputs": [
    {
     "ename": "NameError",
     "evalue": "name 'self' is not defined",
     "output_type": "error",
     "traceback": [
      "\u001b[1;31m---------------------------------------------------------------------------\u001b[0m",
      "\u001b[1;31mNameError\u001b[0m                                 Traceback (most recent call last)",
      "Cell \u001b[1;32mIn[79], line 1\u001b[0m\n\u001b[1;32m----> 1\u001b[0m c1\u001b[38;5;241m.\u001b[39mshow_str2()\n",
      "Cell \u001b[1;32mIn[59], line 6\u001b[0m, in \u001b[0;36mParent2.show_str2\u001b[1;34m(str2)\u001b[0m\n\u001b[0;32m      5\u001b[0m \u001b[38;5;28;01mdef\u001b[39;00m \u001b[38;5;21mshow_str2\u001b[39m(str2):\n\u001b[1;32m----> 6\u001b[0m     \u001b[38;5;28mprint\u001b[39m(\u001b[38;5;28mself\u001b[39m\u001b[38;5;241m.\u001b[39mstr2)\n",
      "\u001b[1;31mNameError\u001b[0m: name 'self' is not defined"
     ]
    }
   ],
   "source": [
    "c1.show_str2()"
   ]
  },
  {
   "cell_type": "code",
   "execution_count": 80,
   "id": "a883a805",
   "metadata": {},
   "outputs": [
    {
     "ename": "TypeError",
     "evalue": "Child.show_str3() takes 0 positional arguments but 1 was given",
     "output_type": "error",
     "traceback": [
      "\u001b[1;31m---------------------------------------------------------------------------\u001b[0m",
      "\u001b[1;31mTypeError\u001b[0m                                 Traceback (most recent call last)",
      "Cell \u001b[1;32mIn[80], line 1\u001b[0m\n\u001b[1;32m----> 1\u001b[0m c1\u001b[38;5;241m.\u001b[39mshow_str3()\n",
      "\u001b[1;31mTypeError\u001b[0m: Child.show_str3() takes 0 positional arguments but 1 was given"
     ]
    }
   ],
   "source": [
    "c1.show_str3()"
   ]
  },
  {
   "cell_type": "code",
   "execution_count": 82,
   "id": "86b2cb0f",
   "metadata": {},
   "outputs": [],
   "source": [
    "#Multi-level Inheritance"
   ]
  },
  {
   "cell_type": "code",
   "execution_count": 94,
   "id": "407fbcbd",
   "metadata": {},
   "outputs": [
    {
     "name": "stdout",
     "output_type": "stream",
     "text": [
      "Mother - Hii\n",
      "Father - Hii\n",
      "Person - Hii\n",
      "Printing the age(Mother):  30\n",
      "Printing the age(Father):  35\n",
      "Printing the age:  34\n"
     ]
    }
   ],
   "source": [
    "class Person:\n",
    "\tdef __init__(self):\n",
    "\t\tprint('Person - Hii')\n",
    "\n",
    "\n",
    "\tdef age(self, a):\n",
    "\t\tprint('Printing the age: ', a)\n",
    "\n",
    "\n",
    "class Father(Person):\n",
    "\tdef __init__(self):\n",
    "\t\tprint('Father - Hii')\n",
    "\t\tsuper().__init__()\n",
    "\n",
    "\n",
    "\tdef age(self, a):\n",
    "\t\tprint('Printing the age(Father): ', a)\n",
    "\t\tsuper().age(a - 1)\n",
    "\n",
    "\n",
    "class Mother(Father):\n",
    "\tdef __init__(self):\n",
    "\t\tprint('Mother - Hii')\n",
    "\t\tsuper().__init__()\n",
    "\n",
    "\n",
    "\tdef age(self, a):\n",
    "\t\tprint('Printing the age(Mother): ', a)\n",
    "\t\tsuper().age(a + 5)\n",
    "\n",
    "\n",
    "# Main function\n",
    "if __name__ == '__main__':\n",
    "\to = Mother()\n",
    "\to.age(30)"
   ]
  },
  {
   "cell_type": "code",
   "execution_count": 84,
   "id": "b92af80f",
   "metadata": {},
   "outputs": [],
   "source": []
  },
  {
   "cell_type": "code",
   "execution_count": 85,
   "id": "d912b8f0",
   "metadata": {},
   "outputs": [],
   "source": []
  },
  {
   "cell_type": "code",
   "execution_count": null,
   "id": "e1a053cb",
   "metadata": {},
   "outputs": [],
   "source": []
  },
  {
   "cell_type": "code",
   "execution_count": null,
   "id": "b0aebafe",
   "metadata": {},
   "outputs": [],
   "source": []
  },
  {
   "cell_type": "code",
   "execution_count": null,
   "id": "f3c93685",
   "metadata": {},
   "outputs": [],
   "source": []
  },
  {
   "cell_type": "code",
   "execution_count": null,
   "id": "24faeb43",
   "metadata": {
    "scrolled": false
   },
   "outputs": [],
   "source": []
  },
  {
   "cell_type": "code",
   "execution_count": null,
   "id": "137a7731",
   "metadata": {},
   "outputs": [],
   "source": []
  }
 ],
 "metadata": {
  "kernelspec": {
   "display_name": "Python 3 (ipykernel)",
   "language": "python",
   "name": "python3"
  },
  "language_info": {
   "codemirror_mode": {
    "name": "ipython",
    "version": 3
   },
   "file_extension": ".py",
   "mimetype": "text/x-python",
   "name": "python",
   "nbconvert_exporter": "python",
   "pygments_lexer": "ipython3",
   "version": "3.11.5"
  }
 },
 "nbformat": 4,
 "nbformat_minor": 5
}
